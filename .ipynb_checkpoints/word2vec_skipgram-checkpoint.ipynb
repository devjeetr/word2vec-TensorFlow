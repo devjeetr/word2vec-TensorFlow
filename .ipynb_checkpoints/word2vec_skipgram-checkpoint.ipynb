{
 "cells": [
  {
   "cell_type": "code",
   "execution_count": 1,
   "metadata": {},
   "outputs": [
    {
     "name": "stderr",
     "output_type": "stream",
     "text": [
      "/home/devjeetroy/.conda/envs/word2vec-TensorFlow/lib/python3.6/importlib/_bootstrap.py:219: RuntimeWarning: compiletime version 3.5 of module 'tensorflow.python.framework.fast_tensor_util' does not match runtime version 3.6\n",
      "  return f(*args, **kwds)\n"
     ]
    }
   ],
   "source": [
    "import numpy as np\n",
    "import zipfile\n",
    "import tensorflow as tf\n",
    "import collections\n",
    "import random\n",
    "import math\n",
    "from sklearn.manifold import TSNE\n",
    "from matplotlib import pylab"
   ]
  },
  {
   "cell_type": "code",
   "execution_count": 2,
   "metadata": {},
   "outputs": [],
   "source": [
    "text8_filepath = \"text8.zip\"\n",
    "\n",
    "def loadFile(filename):\n",
    "    with zipfile.ZipFile(filename) as _zipfile:\n",
    "        with _zipfile.open(_zipfile.namelist()[0]) as data_file:\n",
    "            data = tf.compat.as_str(data_file.read()).split()\n",
    "    return data\n"
   ]
  },
  {
   "cell_type": "code",
   "execution_count": 3,
   "metadata": {},
   "outputs": [],
   "source": [
    "def build_dataset(words, n_words):\n",
    "    count = [[\"UNK\", -1]]\n",
    "    count.extend(collections.Counter(words).most_common(n_words - 1))\n",
    "    dictionary = dict()\n",
    "    \n",
    "    for word, _ in count:\n",
    "        dictionary[word] = len(dictionary)\n",
    "        \n",
    "    data = list()\n",
    "    unk_count = 0\n",
    "    for word in words:\n",
    "        index = dictionary.get(word, 0)\n",
    "        if index == 0:\n",
    "            unk_count += 1\n",
    "        data.append(index)\n",
    "    count[0][1] = unk_count\n",
    "    \n",
    "    reversed_dictionary = dict(zip(dictionary.values(), dictionary.keys()))\n",
    "    return data, count, dictionary, reversed_dictionary"
   ]
  },
  {
   "cell_type": "code",
   "execution_count": 4,
   "metadata": {},
   "outputs": [],
   "source": [
    "def generate_batch(n, data, batch_size=10, num_skips=10, skip_window=5):\n",
    "    batch = np.ndarray(shape=(batch_size), dtype=np.int32)\n",
    "    labels = np.ndarray(shape=(batch_size, 1), dtype=np.int32)\n",
    "    \n",
    "    span = 2 * skip_window + 1\n",
    "    buffer = collections.deque(maxlen=span)\n",
    "    \n",
    "    if n + span > len(data):\n",
    "        n = 0\n",
    "    \n",
    "    buffer.extend(data[n: n + span])\n",
    "    n += span\n",
    "    for i in range(batch_size // num_skips):\n",
    "        context_words = [w for w in range(span) if w != skip_window]\n",
    "        words_to_use = random.sample(context_words, num_skips)\n",
    "        for j, context_word in enumerate(words_to_use):\n",
    "            batch[i * num_skips + j] = buffer[skip_window]\n",
    "            labels[i * num_skips + j, 0] = buffer[context_word]\n",
    "        \n",
    "        if n == len(data):\n",
    "            buffer.clear()\n",
    "            buffer.extend(data[:span])\n",
    "            n = span\n",
    "        else:\n",
    "            buffer.append(data[n])\n",
    "            n += 1\n",
    "        \n",
    "    n =  (n + len(data) - span) % len(data)\n",
    "\n",
    "    return batch, labels, n\n",
    "\n",
    "\n",
    "    "
   ]
  },
  {
   "cell_type": "code",
   "execution_count": null,
   "metadata": {},
   "outputs": [],
   "source": []
  },
  {
   "cell_type": "code",
   "execution_count": 5,
   "metadata": {},
   "outputs": [],
   "source": [
    "# n = 0\n",
    "# batch, labels, n = generate_batch(n, data, batch_size=8, num_skips=2, skip_window=1)\n",
    "# # print(labels[1: 10])\n",
    "# for i in range(8):\n",
    "#         print(batch[i], reverse_dictionary[batch[i]],\n",
    "#             '->', labels[i, 0], reverse_dictionary[labels[i, 0]])"
   ]
  },
  {
   "cell_type": "code",
   "execution_count": 6,
   "metadata": {},
   "outputs": [],
   "source": [
    "batch_size = 128\n",
    "embedding_size = 128\n",
    "skip_window = 1\n",
    "num_skips = 2\n",
    "num_sampled = 64\n",
    "vocabulary_size = 50000\n",
    "\n",
    "valid_size = 16\n",
    "valid_window = 100\n",
    "valid_examples = np.array(random.sample(range(valid_window), valid_size))\n",
    "\n",
    "graph = tf.Graph()\n",
    "\n",
    "with graph.as_default():\n",
    "    training_data = tf.placeholder(tf.int32, shape=[batch_size])\n",
    "    training_labels = tf.placeholder(tf.int32, shape=[batch_size, 1])\n",
    "    validation_set = tf.constant(valid_examples, dtype=tf.int32)\n",
    "    \n",
    "    embeddings = tf.Variable(tf.random_uniform([vocabulary_size, embedding_size], \n",
    "                                                -1.0, 1.0))\n",
    "    \n",
    "    softmax_weights = tf.Variable(tf.truncated_normal([vocabulary_size, embedding_size], \n",
    "                                                       stddev=1.0/math.sqrt(embedding_size)))\n",
    "    softmax_biases = tf.Variable(tf.zeros([vocabulary_size]))\n",
    "    \n",
    "    # Model\n",
    "    embed = tf.nn.embedding_lookup(embeddings, training_data)\n",
    "    \n",
    "    loss = tf.reduce_mean(\n",
    "        tf.nn.sampled_softmax_loss(weights=softmax_weights, biases=softmax_biases, inputs=embed,\n",
    "                                  labels=training_labels, num_sampled=num_sampled, num_classes=vocabulary_size)\n",
    "    )\n",
    "    \n",
    "    \n",
    "    # optimizer\n",
    "    optimizer = tf.train.AdagradOptimizer(1.0).minimize(loss)\n",
    "    \n",
    "    # compute similarity between\n",
    "    norm = tf.sqrt(tf.reduce_sum(tf.square(embeddings), 1, keep_dims=True))\n",
    "    normalized_embeddings = embeddings / norm\n",
    "    valid_embeddings = tf.nn.embedding_lookup(normalized_embeddings, validation_set)\n",
    "    \n",
    "    similarity = tf.matmul(valid_embeddings, tf.transpose(normalized_embeddings))\n",
    "\n",
    "    \n",
    "def get_flattened_embeddings(embeddings):\n",
    "    tsne = TSNE(perplexity=30, n_components=2, init='pca', n_iter=5000, method='exact')\n",
    "    embeddings = tsne.fit_transform(embeddings[1:, :])\n",
    "    return embeddings\n",
    "\n",
    "def flattened_embedding_to_graph_data(embeddings, labels):\n",
    "    return [[a, b, c] for (a, b), c in zip(embeddings.tolist(), words)]"
   ]
  },
  {
   "cell_type": "code",
   "execution_count": null,
   "metadata": {
    "scrolled": true
   },
   "outputs": [
    {
     "name": "stdout",
     "output_type": "stream",
     "text": [
      "Initialized\n",
      "step: 0, loss: 7.5491437911987305\n",
      "step: 1000, loss: 4.706552924633026\n",
      "step: 2000, loss: 4.042916623830795\n",
      "step: 3000, loss: 3.960678095340729\n",
      "step: 4000, loss: 3.8947622339725494\n",
      "step: 5000, loss: 3.8269441561698914\n",
      "step: 6000, loss: 3.783018235683441\n",
      "step: 7000, loss: 3.771661952257156\n",
      "step: 8000, loss: 3.7516676864624023\n",
      "step: 9000, loss: 3.702561943531036\n"
     ]
    }
   ],
   "source": [
    "num_steps = 100001\n",
    "raw_text = loadFile(text8_filepath)\n",
    "data, count, dictionary, reverse_dictionary = build_dataset(raw_text, vocabulary_size)\n",
    "average_loss = 0\n",
    "\n",
    "graph_data = []\n",
    "graph_data_polling_interval = 1000\n",
    "num_points = 100\n",
    "words = [reverse_dictionary[i] for i in range(1, num_points+1)]\n",
    "tf.logging.set_verbosity(tf.logging.INFO)\n",
    "with tf.Session(graph=graph, config=tf.ConfigProto(log_device_placement=True)) as session:\n",
    "    tf.global_variables_initializer().run()\n",
    "    print(\"Initialized\")\n",
    "    n = 0\n",
    "    for step in range(num_steps):\n",
    "        \n",
    "        batch_data, batch_labels, n = generate_batch(n, data, batch_size=batch_size, \n",
    "                                                num_skips=num_skips, skip_window=skip_window)\n",
    "        \n",
    "        feed_dict = {training_data: batch_data, \n",
    "                     training_labels: batch_labels}\n",
    "        \n",
    "        _, l = session.run([optimizer, loss], feed_dict=feed_dict)\n",
    "        \n",
    "        average_loss += l\n",
    "        if step % graph_data_polling_interval == 0:\n",
    "            if step > 0:\n",
    "                average_loss = average_loss / graph_data_polling_interval\n",
    "            \n",
    "            current_embeddings = get_flattened_embeddings(normalized_embeddings.eval()[:num_points + 1])\n",
    "            graph_data.append(flattened_embedding_to_graph_data(current_embeddings, words))\n",
    "            \n",
    "            print(\"step: {}, loss: {}\".format(step, average_loss))\n",
    "            \n",
    "            average_loss = 0\n",
    "            \n",
    "    final_embeddings = normalized_embeddings.eval()\n",
    "\n",
    "    print()"
   ]
  },
  {
   "cell_type": "code",
   "execution_count": null,
   "metadata": {
    "scrolled": true
   },
   "outputs": [],
   "source": [
    "import json\n",
    "def save_to_file(data, filename):\n",
    "    json_object = {}\n",
    "    \n",
    "    for i, snapshot in enumerate(data):\n",
    "        if i not in json_object:\n",
    "            json_object[i] = {}\n",
    "            \n",
    "        for j, row in enumerate(snapshot):\n",
    "            json_object[i][j] = {\"x\": row[0], \"y\": row[1], \"word\": row[2]}\n",
    "    \n",
    "    with open(\"./\" + filename, \"w+\") as f:\n",
    "        json.dump(json_object, f)\n",
    "\n",
    "save_to_file(graph_data, \"snapshots.json\")"
   ]
  },
  {
   "cell_type": "code",
   "execution_count": null,
   "metadata": {},
   "outputs": [],
   "source": [
    "num_points = 100\n",
    "tsne = TSNE(perplexity=30, n_components=2, init='pca', n_iter=5000, method='exact')\n",
    "two_d_embeddings = tsne.fit_transform(final_embeddings[1:num_points+1, :])\n",
    "\n",
    "\n",
    "def plot(embeddings, labels):\n",
    "    assert embeddings.shape[0] >= len(labels), 'More labels than embeddings'\n",
    "    pylab.figure(figsize=(15,15))  # in inches\n",
    "    for i, label in enumerate(labels):\n",
    "        x, y = embeddings[i,:]\n",
    "        pylab.scatter(x, y)\n",
    "        pylab.annotate(label, xy=(x, y), xytext=(5, 2), textcoords='offset points',\n",
    "                       ha='right', va='bottom')\n",
    "    pylab.show()\n",
    "\n",
    "words = [reverse_dictionary[i] for i in range(1, num_points+1)]\n",
    "plot(two_d_embeddings, words)"
   ]
  },
  {
   "cell_type": "code",
   "execution_count": null,
   "metadata": {},
   "outputs": [],
   "source": [
    "print(span)"
   ]
  },
  {
   "cell_type": "code",
   "execution_count": null,
   "metadata": {},
   "outputs": [],
   "source": []
  },
  {
   "cell_type": "code",
   "execution_count": null,
   "metadata": {},
   "outputs": [],
   "source": []
  }
 ],
 "metadata": {
  "kernelspec": {
   "display_name": "Python 3",
   "language": "python",
   "name": "python3"
  },
  "language_info": {
   "codemirror_mode": {
    "name": "ipython",
    "version": 3
   },
   "file_extension": ".py",
   "mimetype": "text/x-python",
   "name": "python",
   "nbconvert_exporter": "python",
   "pygments_lexer": "ipython3",
   "version": "3.6.3"
  }
 },
 "nbformat": 4,
 "nbformat_minor": 2
}
